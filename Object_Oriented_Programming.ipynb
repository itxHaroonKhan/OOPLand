{
  "nbformat": 4,
  "nbformat_minor": 0,
  "metadata": {
    "colab": {
      "provenance": [],
      "authorship_tag": "ABX9TyN04KvwavrojQifjIqq6KAF",
      "include_colab_link": true
    },
    "kernelspec": {
      "name": "python3",
      "display_name": "Python 3"
    },
    "language_info": {
      "name": "python"
    }
  },
  "cells": [
    {
      "cell_type": "markdown",
      "metadata": {
        "id": "view-in-github",
        "colab_type": "text"
      },
      "source": [
        "<a href=\"https://colab.research.google.com/github/itxHaroonKhan/OOPLand/blob/main/Object_Oriented_Programming.ipynb\" target=\"_parent\"><img src=\"https://colab.research.google.com/assets/colab-badge.svg\" alt=\"Open In Colab\"/></a>"
      ]
    },
    {
      "cell_type": "markdown",
      "source": [
        "\n",
        "**Object-Oriented Programming**\n",
        "\n",
        "\n",
        "\n",
        "\n",
        "---\n",
        "\n",
        "\n",
        "---\n",
        "\n",
        "### 🔑 **Topic: Polymorphism in Python (Object-Oriented Programming)**\n",
        "\n",
        "**Is code me keya ho raha hai:**\n",
        "\n",
        "* Teen alag alag classes banayi gayi hain:\n",
        "\n",
        "  * `DeveloperHaroon`\n",
        "  * `DeveloperHamza`\n",
        "  * `DeveloperTaha`\n",
        "\n",
        "* Har class ke andar `introduce` naam ka ek method hai jo developer ka introduction deta hai.\n",
        "\n",
        "* Har developer ka introduce method **alag** tarike se likha gaya hai (custom message), **lekin method ka naam sab me same hai**.\n",
        "\n",
        "* **Polymorphism ka use** last line me dikhaya gaya hai:\n",
        "\n",
        "  * Ek loop banaya gaya hai jo teeno developers ka introduce method call karta hai.\n",
        "  * Har object apna apna introduce method chalata hai.\n",
        "\n",
        "---\n",
        "\n",
        "### 🔁 **Polymorphism ka matlab:**\n",
        "\n",
        "Ek hi method naam (yahan `introduce`) hone ke bawajood har class apna alag behavior show kar rahi hai. Ye hi hota hai **Polymorphism** — \"many forms\".\n",
        "\n",
        "---\n",
        "\n"
      ],
      "metadata": {
        "id": "g2M_dDAwuWMt"
      }
    },
    {
      "cell_type": "code",
      "execution_count": null,
      "metadata": {
        "colab": {
          "base_uri": "https://localhost:8080/"
        },
        "id": "E_sEoBnGXdHV",
        "outputId": "f1187897-f56d-4946-aaf3-7d59a8267ea6"
      },
      "outputs": [
        {
          "output_type": "stream",
          "name": "stdout",
          "text": [
            " Hello, I am Haroon Rasheed — a passionate Frontend Developer specializing in Next.js and Tailwind CSS.\n",
            " Hi, I'm Hamza — a creative Web Designer with a love for clean UI and smooth user experience.\n",
            " Hey there! I'm Taha — a Backend Developer working with Python and MongoDB to build powerful APIs.\n"
          ]
        }
      ],
      "source": [
        "class DeveloperHaroon:\n",
        "    def introduce(self):\n",
        "        print(\" Hello, I am Haroon Rasheed — a passionate Frontend Developer specializing in Next.js and Tailwind CSS.\")\n",
        "\n",
        "class DeveloperHamza:\n",
        "    def introduce(self):\n",
        "        print(\" Hi, I'm Hamza — a creative Web Designer with a love for clean UI and smooth user experience.\")\n",
        "\n",
        "class DeveloperTaha:\n",
        "    def introduce(self):\n",
        "        print(\" Hey there! I'm Taha — a Backend Developer working with Python and MongoDB to build powerful APIs.\")\n",
        "\n",
        "# Polymorphism in action\n",
        "for dev in [DeveloperHaroon(), DeveloperHamza(), DeveloperTaha()]:\n",
        "    dev.introduce()\n"
      ]
    },
    {
      "cell_type": "markdown",
      "source": [],
      "metadata": {
        "id": "moxTGlbzwbGD"
      }
    },
    {
      "cell_type": "markdown",
      "source": [
        "\n",
        "\n",
        "### 🔐 **Topic: Encapsulation in Python (Object-Oriented Programming)**\n",
        "\n",
        "**Is code me kya ho raha hai:**\n",
        "\n",
        "* Ek class `Car` banayi gayi hai jismein 3 attributes hain:\n",
        "\n",
        "  * `name` → **public** (har jagah se access ho sakta hai)\n",
        "  * `_model` → **protected** (andar se access sahi hai, bahar se karna mana nahi lekin recommend nahi hota)\n",
        "  * `__secret_code` → **private** (direct access bahar se possible nahi hota)\n",
        "\n",
        "* Constructor `__init__` ke zariye values assign ki gayi hain.\n",
        "\n",
        "* `show()` method values print karta hai.\n",
        "\n",
        "* `car.show()` method theek kaam karta hai aur sab attributes ko print karta hai.\n",
        "\n",
        "---\n",
        "\n",
        "### 🔎 Access Levels:\n",
        "\n",
        "* `car.name` → ✅ **Public**: Direct access allowed\n",
        "* `car._model` → ✅ **Protected**: Direct access allowed but **not recommended**\n",
        "* `car.__secret_code` → ❌ **Private**: Direct access se error milega\n",
        "* `car._Car__secret_code` → ✅ **Name Mangling** se access ho sakta hai, lekin **yeh bhi recommended nahi hai**\n",
        "\n",
        "---\n",
        "\n",
        "### 📌 **Encapsulation ka matlab:**\n",
        "\n",
        "Data ko **hide** karna aur access control dena — taki object ke andar ka data directly change na kiya ja sake.\n",
        "\n",
        "Yeh concept software ko **secure aur structured** banata hai.\n",
        "\n",
        "---\n",
        "\n",
        "\n"
      ],
      "metadata": {
        "id": "elfX3z9Vu9KR"
      }
    },
    {
      "cell_type": "code",
      "source": [
        "#  Encapsulation\n",
        "class Car:\n",
        "    def __init__(self, name, model, secret_code):\n",
        "        self.name = name           # public\n",
        "        self._model = model        # protected\n",
        "        self.__secret_code = secret_code  # private\n",
        "\n",
        "    def show(self):\n",
        "        print(\"Name:\", self.name)\n",
        "        print(\"Model:\", self._model)\n",
        "        print(\"Code:\", self.__secret_code)\n",
        "\n",
        "car = Car(\"Toyota\", \"Corolla\", \"XYZ123\")\n",
        "\n",
        "car.show()  # ✅ works\n",
        "\n",
        "# print(car.name)       # ✅\n",
        "# print(car._model)     # ✅ (not recommended)\n",
        "# # print(car.__secret_code)  # ❌ Error\n",
        "# print(car._Car__secret_code)  # ✅ works (but not recommended)\n"
      ],
      "metadata": {
        "colab": {
          "base_uri": "https://localhost:8080/"
        },
        "id": "yPmrmue_e13G",
        "outputId": "58b2f480-7a24-425f-9305-64073f7292a4"
      },
      "execution_count": null,
      "outputs": [
        {
          "output_type": "stream",
          "name": "stdout",
          "text": [
            "Name: Toyota\n",
            "Model: Corolla\n",
            "Code: XYZ123\n"
          ]
        }
      ]
    },
    {
      "cell_type": "markdown",
      "source": [
        "\n",
        "---\n",
        "\n",
        "### 🎭 **Topic: Abstraction in Python (Object-Oriented Programming)**\n",
        "\n",
        "**Is code me kya ho raha hai:**\n",
        "\n",
        "* `Animal` naam ki ek **abstract class** banayi gayi hai jo `ABC` (Abstract Base Class) se inherit karti hai.\n",
        "* Is class ke andar ek method `make_sound()` banaya gaya hai jo **abstract method** hai — yani sirf define kiya gaya hai, lekin implement nahi.\n",
        "* Fir do concrete classes `Dog` aur `Cat` banayi gayi hain jo `Animal` class ko inherit karti hain.\n",
        "* Dono classes ne `make_sound()` method ka apna apna implementation diya hai.\n",
        "* Jab `Dog` aur `Cat` ke objects banaye jaate hain aur `make_sound()` call hota hai, to har object apna specific sound deta hai.\n",
        "\n",
        "---\n",
        "\n",
        "### 🎯 **Abstraction ka matlab:**\n",
        "\n",
        "Sirf **important functionality show karna** aur **complex details chhupa lena**.\n",
        "\n",
        "Jaise:\n",
        "\n",
        "> `dog.make_sound()` likhne par hume sirf result milta hai `\"Bark!\"`, lekin wo kaise aaya, uska internal code chhupa rehta hai — yehi hoti hai **abstraction**.\n",
        "\n",
        "---\n",
        "\n",
        "### 🔍 Extra Points:\n",
        "\n",
        "* Abstract class ka **direct object nahi ban sakta**.\n",
        "* Abstract methods ka purpose hota hai: **child class ko force karna ke wo apna version banaye**.\n",
        "* Isse code structured aur consistent rehta hai.\n",
        "\n",
        "---\n",
        "\n",
        "\n"
      ],
      "metadata": {
        "id": "R4emA78YvsjP"
      }
    },
    {
      "cell_type": "code",
      "source": [
        "from abc import ABC, abstractmethod  # 🔹 ABC = Abstract Base Class\n",
        "\n",
        "# Abstract class banai gayi hai\n",
        "class Animal(ABC):\n",
        "    @abstractmethod\n",
        "    def make_sound(self):  # 🔹 Ye method sirf define kiya gaya hai, koi body nahi\n",
        "        pass\n",
        "\n",
        "# Concrete class jo Animal se inherit karti hai\n",
        "class Dog(Animal):\n",
        "    def make_sound(self):  # 🔹 Ab yahan us method ka implementation diya gaya hai\n",
        "        print(\"Bark!\")\n",
        "\n",
        "class Cat(Animal):\n",
        "    def make_sound(self):  # 🔹 Har class apna apna implementation degi\n",
        "        print(\"Meow!\")\n",
        "\n",
        "# Ab object banaye ja rahe hain\n",
        "dog = Dog()\n",
        "cat = Cat()\n",
        "\n",
        "# Method call ho raha hai, abstraction ke zariye internal details chhupi hui hain\n",
        "dog.make_sound()  # Output: Bark!\n",
        "cat.make_sound()  # Output: Meow!\n"
      ],
      "metadata": {
        "colab": {
          "base_uri": "https://localhost:8080/"
        },
        "id": "clp0Zw7YvmkE",
        "outputId": "b22514a5-f31f-42cb-b729-c56c9a02fc12"
      },
      "execution_count": null,
      "outputs": [
        {
          "output_type": "stream",
          "name": "stdout",
          "text": [
            "Bark!\n",
            "Meow!\n"
          ]
        }
      ]
    },
    {
      "cell_type": "markdown",
      "source": [
        "\n",
        "\n",
        "---\n",
        "\n",
        "### 👨‍👦‍👦 **Topic: Inheritance in Python (Object-Oriented Programming)**\n",
        "\n",
        "**Is code me kya ho raha hai:**\n",
        "\n",
        "* Ek `Person` naam ki **parent (base)** class banayi gayi hai jisme `name` attribute aur `speak()` method hai.\n",
        "* Fir ek `Student` naam ki **child (derived)** class banayi gayi hai jo `Person` ko **inherit** karti hai.\n",
        "* `Student` ke paas apna ek method `study()` bhi hai.\n",
        "* Jab `Student` ka object banaya jata hai to:\n",
        "\n",
        "  * Wo `Person` ke method `speak()` ko bhi use kar sakta hai.\n",
        "  * Aur apna method `study()` bhi chala sakta hai.\n",
        "\n",
        "---\n",
        "\n",
        "### 🧬 **Inheritance ka matlab:**\n",
        "\n",
        "Ek class doosri class ke **properties aur methods** ko **waraasat me lena** — yani dobara likhne ki zarurat nahi padti.\n",
        "\n",
        "Jaise:\n",
        "\n",
        "> `Student` ne `Person` se naam aur bolne ki capability le li — aur fir apni study wali capability bhi add kar di.\n",
        "\n",
        "---\n",
        "\n",
        "### 🔍 Extra Points:\n",
        "\n",
        "* Child class parent ke **public aur protected members** ko inherit karti hai.\n",
        "* Python me `class Child(Parent):` likh ke inheritance kiya jata hai.\n",
        "* Ye code reuse, consistency aur maintainability me help karta hai.\n",
        "\n",
        "---\n",
        "\n",
        "### 📘 Example Summary (quick):\n",
        "\n",
        "```python\n",
        "class Person:\n",
        "    def speak(self): pass\n",
        "\n",
        "class Student(Person):\n",
        "    def study(self): pass\n",
        "```\n",
        "\n",
        "> `Student` can `speak()` (from `Person`) **+** `study()` (its own method)\n",
        "\n",
        "---\n",
        "\n",
        "\n"
      ],
      "metadata": {
        "id": "rf-u6llzwgnH"
      }
    },
    {
      "cell_type": "code",
      "source": [
        "class Grandfather:\n",
        "    def show_grandfather(self):\n",
        "        print(\"I am Grandfather\")\n",
        "\n",
        "class Father(Grandfather):\n",
        "    def show_father(self):\n",
        "        print(\"I am Father\")\n",
        "\n",
        "class Son(Father):\n",
        "    def show_son(self):\n",
        "        print(\"I am Son\")\n",
        "\n",
        "# Object of Son\n",
        "s1 = Son()\n",
        "\n",
        "s1.show_grandfather()  # ✅ Grandfather se mila\n",
        "s1.show_father()       # ✅ Father se mila\n",
        "s1.show_son()          # ✅ Son ka apna method\n"
      ],
      "metadata": {
        "colab": {
          "base_uri": "https://localhost:8080/"
        },
        "id": "7QEX9pNVwmM9",
        "outputId": "40e35713-fc37-456e-a206-9cc4067d1077"
      },
      "execution_count": null,
      "outputs": [
        {
          "output_type": "stream",
          "name": "stdout",
          "text": [
            "I am Grandfather\n",
            "I am Father\n",
            "I am Son\n"
          ]
        }
      ]
    }
  ]
}